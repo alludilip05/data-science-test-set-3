{
 "cells": [
  {
   "cell_type": "markdown",
   "metadata": {},
   "source": [
    "# Guidelines\n",
    "\n",
    "  - Two Questions are given in this exam ,you have to implement both the questions.\n",
    "  - No internal choice is provided.\n",
    "  - You can Implement these questions in Python.\n",
    "  - Time Duration: 1 hour.\n",
    "\n",
    "### Task 1 : Implementation of K-means clustering\n",
    "\n",
    "You have to Import the IRIS dataset and implement the following tasks:\n",
    " - Load IRIS dataset.\n",
    " - Select Target Column from the dataset.\n",
    " - Select the number of Clusters (value of K).\n",
    " - Implement K means.\n",
    " - Plot the table of K means.\n",
    " - Plot the clusters obtained.\n",
    "\n",
    "### Task 2 : Implementation of Hierarchical Clustering\n",
    "- Load IRIS dataset as Dataframe.\n",
    "- Create Independent Variable from the dataset.\n",
    "- Use dendrograms to find optimal number of clusters.\n",
    "- Minimize variance within each cluster.\n",
    "- Fit Hierarchical Clustering to the dataset.\n",
    "- Create Clustering Object.\n",
    "- Make predictions and visualize the clusters along with data points."
   ]
  },
  {
   "cell_type": "code",
   "execution_count": null,
   "metadata": {},
   "outputs": [],
   "source": []
  }
 ],
 "metadata": {
  "kernelspec": {
   "display_name": "Python 3",
   "language": "python",
   "name": "python3"
  },
  "language_info": {
   "codemirror_mode": {
    "name": "ipython",
    "version": 3
   },
   "file_extension": ".py",
   "mimetype": "text/x-python",
   "name": "python",
   "nbconvert_exporter": "python",
   "pygments_lexer": "ipython3",
   "version": "3.6.6"
  }
 },
 "nbformat": 4,
 "nbformat_minor": 2
}
